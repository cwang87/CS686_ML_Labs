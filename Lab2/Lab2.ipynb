{
 "cells": [
  {
   "cell_type": "code",
   "execution_count": 1,
   "metadata": {
    "collapsed": true
   },
   "outputs": [],
   "source": [
    "import numpy as np \n",
    "import pandas as pd\n",
    "import matplotlib.pyplot as plt "
   ]
  },
  {
   "cell_type": "code",
   "execution_count": 2,
   "metadata": {
    "collapsed": true
   },
   "outputs": [],
   "source": [
    "def loadDataSet(fileName):\n",
    "    dataMat = []; labelMat = []\n",
    "    fr = open(fileName)\n",
    "    for line in fr.readlines():\n",
    "        lineArr = line.strip().split(',')\n",
    "        dataMat.append([float(lineArr[0]), float(lineArr[1])])\n",
    "        labelMat.append(float(lineArr[2]))\n",
    "    return dataMat,labelMat"
   ]
  },
  {
   "cell_type": "code",
   "execution_count": 3,
   "metadata": {
    "collapsed": true
   },
   "outputs": [],
   "source": [
    "dataArr,labelArr = loadDataSet('linearly_separable.csv')"
   ]
  },
  {
   "cell_type": "code",
   "execution_count": 4,
   "metadata": {
    "collapsed": true
   },
   "outputs": [],
   "source": [
    "def plot_fit(datamatrix, labelmatrix):\n",
    "    dataarray = np.asarray(datamatrix)\n",
    "    n = dataarray.shape[0]\n",
    "\n",
    "    # Keep track of the two classes in different arrays so they can be plotted later...\n",
    "    xcord1 = []\n",
    "    ycord1 = []\n",
    "    xcord2 = []\n",
    "    ycord2 = []\n",
    "    for i in range(n):\n",
    "        if int(labelmatrix[i]) == 1:\n",
    "            xcord1.append(dataarray[i, 0])\n",
    "            ycord1.append(dataarray[i, 1])\n",
    "        else:\n",
    "            xcord2.append(dataarray[i, 0])\n",
    "            ycord2.append(dataarray[i, 1])\n",
    "    fig = plt.figure()\n",
    "\n",
    "    # Plot the data as points with different colours\n",
    "    ax = fig.add_subplot(111)\n",
    "    ax.scatter(xcord1, ycord1, s=20, c='red', marker='s')\n",
    "    ax.scatter(xcord2, ycord2, s=20, c='green')\n",
    "    \n",
    "    plt.xlabel('x1')\n",
    "    plt.ylabel('x2')\n",
    "    plt.grid(False)\n",
    "    plt.show()"
   ]
  },
  {
   "cell_type": "code",
   "execution_count": 5,
   "metadata": {
    "scrolled": true
   },
   "outputs": [
    {
     "data": {
      "image/png": "[encoded data removed]",
      "text/plain": [
       "<matplotlib.figure.Figure at 0x115d54710>"
      ]
     },
     "metadata": {},
     "output_type": "display_data"
    }
   ],
   "source": [
    "plot_fit(dataArr,labelArr)"
   ]
  },
  {
   "cell_type": "markdown",
   "metadata": {},
   "source": [
    "### SVM"
   ]
  },
  {
   "cell_type": "code",
   "execution_count": 6,
   "metadata": {
    "scrolled": false
   },
   "outputs": [
    {
     "name": "stdout",
     "output_type": "stream",
     "text": [
      "fullSet, iter: 0 i:0, pairs changed 1\n",
      "fullSet, iter: 0 i:1, pairs changed 1\n",
      "fullSet, iter: 0 i:2, pairs changed 1\n",
      "fullSet, iter: 0 i:3, pairs changed 1\n",
      "fullSet, iter: 0 i:4, pairs changed 1\n",
      "fullSet, iter: 0 i:5, pairs changed 2\n",
      "j not moving enough\n",
      "fullSet, iter: 0 i:6, pairs changed 2\n",
      "fullSet, iter: 0 i:7, pairs changed 3\n",
      "fullSet, iter: 0 i:8, pairs changed 3\n",
      "fullSet, iter: 0 i:9, pairs changed 3\n",
      "fullSet, iter: 0 i:10, pairs changed 3\n",
      "L==H\n",
      "fullSet, iter: 0 i:11, pairs changed 3\n",
      "fullSet, iter: 0 i:12, pairs changed 3\n",
      "fullSet, iter: 0 i:13, pairs changed 3\n",
      "j not moving enough\n",
      "fullSet, iter: 0 i:14, pairs changed 3\n",
      "fullSet, iter: 0 i:15, pairs changed 3\n",
      "fullSet, iter: 0 i:16, pairs changed 3\n",
      "fullSet, iter: 0 i:17, pairs changed 3\n",
      "L==H\n",
      "fullSet, iter: 0 i:18, pairs changed 3\n",
      "fullSet, iter: 0 i:19, pairs changed 3\n",
      "fullSet, iter: 0 i:20, pairs changed 3\n",
      "fullSet, iter: 0 i:21, pairs changed 3\n",
      "fullSet, iter: 0 i:22, pairs changed 3\n",
      "fullSet, iter: 0 i:23, pairs changed 3\n",
      "fullSet, iter: 0 i:24, pairs changed 3\n",
      "fullSet, iter: 0 i:25, pairs changed 3\n",
      "j not moving enough\n",
      "fullSet, iter: 0 i:26, pairs changed 3\n",
      "fullSet, iter: 0 i:27, pairs changed 3\n",
      "j not moving enough\n",
      "fullSet, iter: 0 i:28, pairs changed 3\n",
      "L==H\n",
      "fullSet, iter: 0 i:29, pairs changed 3\n",
      "fullSet, iter: 0 i:30, pairs changed 3\n",
      "fullSet, iter: 0 i:31, pairs changed 3\n",
      "fullSet, iter: 0 i:32, pairs changed 3\n",
      "fullSet, iter: 0 i:33, pairs changed 3\n",
      "L==H\n",
      "fullSet, iter: 0 i:34, pairs changed 3\n",
      "fullSet, iter: 0 i:35, pairs changed 3\n",
      "L==H\n",
      "fullSet, iter: 0 i:36, pairs changed 3\n",
      "L==H\n",
      "fullSet, iter: 0 i:37, pairs changed 3\n",
      "fullSet, iter: 0 i:38, pairs changed 3\n",
      "fullSet, iter: 0 i:39, pairs changed 3\n",
      "fullSet, iter: 0 i:40, pairs changed 3\n",
      "fullSet, iter: 0 i:41, pairs changed 3\n",
      "j not moving enough\n",
      "fullSet, iter: 0 i:42, pairs changed 3\n",
      "L==H\n",
      "fullSet, iter: 0 i:43, pairs changed 3\n",
      "j not moving enough\n",
      "fullSet, iter: 0 i:44, pairs changed 3\n",
      "j not moving enough\n",
      "fullSet, iter: 0 i:45, pairs changed 3\n",
      "fullSet, iter: 0 i:46, pairs changed 3\n",
      "fullSet, iter: 0 i:47, pairs changed 3\n",
      "fullSet, iter: 0 i:48, pairs changed 3\n",
      "fullSet, iter: 0 i:49, pairs changed 3\n",
      "fullSet, iter: 0 i:50, pairs changed 3\n",
      "fullSet, iter: 0 i:51, pairs changed 3\n",
      "fullSet, iter: 0 i:52, pairs changed 3\n",
      "fullSet, iter: 0 i:53, pairs changed 3\n",
      "L==H\n",
      "fullSet, iter: 0 i:54, pairs changed 3\n",
      "L==H\n",
      "fullSet, iter: 0 i:55, pairs changed 3\n",
      "fullSet, iter: 0 i:56, pairs changed 3\n",
      "fullSet, iter: 0 i:57, pairs changed 3\n",
      "fullSet, iter: 0 i:58, pairs changed 3\n",
      "j not moving enough\n",
      "fullSet, iter: 0 i:59, pairs changed 3\n",
      "fullSet, iter: 0 i:60, pairs changed 3\n",
      "fullSet, iter: 0 i:61, pairs changed 3\n",
      "fullSet, iter: 0 i:62, pairs changed 3\n",
      "fullSet, iter: 0 i:63, pairs changed 3\n",
      "fullSet, iter: 0 i:64, pairs changed 3\n",
      "fullSet, iter: 0 i:65, pairs changed 3\n",
      "fullSet, iter: 0 i:66, pairs changed 3\n",
      "L==H\n",
      "fullSet, iter: 0 i:67, pairs changed 3\n",
      "j not moving enough\n",
      "fullSet, iter: 0 i:68, pairs changed 3\n",
      "fullSet, iter: 0 i:69, pairs changed 3\n",
      "fullSet, iter: 0 i:70, pairs changed 3\n",
      "fullSet, iter: 0 i:71, pairs changed 3\n",
      "fullSet, iter: 0 i:72, pairs changed 3\n",
      "fullSet, iter: 0 i:73, pairs changed 3\n",
      "fullSet, iter: 0 i:74, pairs changed 3\n",
      "fullSet, iter: 0 i:75, pairs changed 3\n",
      "fullSet, iter: 0 i:76, pairs changed 3\n",
      "fullSet, iter: 0 i:77, pairs changed 3\n",
      "fullSet, iter: 0 i:78, pairs changed 3\n",
      "fullSet, iter: 0 i:79, pairs changed 3\n",
      "j not moving enough\n",
      "fullSet, iter: 0 i:80, pairs changed 3\n",
      "fullSet, iter: 0 i:81, pairs changed 3\n",
      "fullSet, iter: 0 i:82, pairs changed 3\n",
      "j not moving enough\n",
      "fullSet, iter: 0 i:83, pairs changed 3\n",
      "fullSet, iter: 0 i:84, pairs changed 3\n",
      "fullSet, iter: 0 i:85, pairs changed 3\n",
      "j not moving enough\n",
      "fullSet, iter: 0 i:86, pairs changed 3\n",
      "fullSet, iter: 0 i:87, pairs changed 3\n",
      "fullSet, iter: 0 i:88, pairs changed 3\n",
      "fullSet, iter: 0 i:89, pairs changed 3\n",
      "fullSet, iter: 0 i:90, pairs changed 3\n",
      "fullSet, iter: 0 i:91, pairs changed 3\n",
      "fullSet, iter: 0 i:92, pairs changed 3\n",
      "fullSet, iter: 0 i:93, pairs changed 3\n",
      "fullSet, iter: 0 i:94, pairs changed 3\n",
      "fullSet, iter: 0 i:95, pairs changed 3\n",
      "fullSet, iter: 0 i:96, pairs changed 3\n",
      "fullSet, iter: 0 i:97, pairs changed 3\n",
      "fullSet, iter: 0 i:98, pairs changed 3\n",
      "fullSet, iter: 0 i:99, pairs changed 3\n",
      "iteration number: 1\n",
      "j not moving enough\n",
      "non-bound, iter: 1 i:5, pairs changed 0\n",
      "non-bound, iter: 1 i:7, pairs changed 0\n",
      "non-bound, iter: 1 i:93, pairs changed 0\n",
      "iteration number: 2\n",
      "fullSet, iter: 2 i:0, pairs changed 0\n",
      "fullSet, iter: 2 i:1, pairs changed 0\n",
      "fullSet, iter: 2 i:2, pairs changed 0\n",
      "fullSet, iter: 2 i:3, pairs changed 0\n",
      "fullSet, iter: 2 i:4, pairs changed 0\n",
      "j not moving enough\n",
      "fullSet, iter: 2 i:5, pairs changed 0\n",
      "fullSet, iter: 2 i:6, pairs changed 0\n",
      "fullSet, iter: 2 i:7, pairs changed 0\n",
      "fullSet, iter: 2 i:8, pairs changed 0\n",
      "fullSet, iter: 2 i:9, pairs changed 0\n",
      "fullSet, iter: 2 i:10, pairs changed 0\n",
      "L==H\n",
      "fullSet, iter: 2 i:11, pairs changed 0\n",
      "fullSet, iter: 2 i:12, pairs changed 0\n",
      "fullSet, iter: 2 i:13, pairs changed 0\n",
      "j not moving enough\n",
      "fullSet, iter: 2 i:14, pairs changed 0\n",
      "fullSet, iter: 2 i:15, pairs changed 0\n",
      "fullSet, iter: 2 i:16, pairs changed 0\n",
      "fullSet, iter: 2 i:17, pairs changed 0\n",
      "L==H\n",
      "fullSet, iter: 2 i:18, pairs changed 0\n",
      "fullSet, iter: 2 i:19, pairs changed 0\n",
      "fullSet, iter: 2 i:20, pairs changed 0\n",
      "fullSet, iter: 2 i:21, pairs changed 0\n",
      "fullSet, iter: 2 i:22, pairs changed 0\n",
      "fullSet, iter: 2 i:23, pairs changed 0\n",
      "fullSet, iter: 2 i:24, pairs changed 0\n",
      "fullSet, iter: 2 i:25, pairs changed 0\n",
      "j not moving enough\n",
      "fullSet, iter: 2 i:26, pairs changed 0\n",
      "fullSet, iter: 2 i:27, pairs changed 0\n",
      "j not moving enough\n",
      "fullSet, iter: 2 i:28, pairs changed 0\n",
      "L==H\n",
      "fullSet, iter: 2 i:29, pairs changed 0\n",
      "fullSet, iter: 2 i:30, pairs changed 0\n",
      "fullSet, iter: 2 i:31, pairs changed 0\n",
      "fullSet, iter: 2 i:32, pairs changed 0\n",
      "fullSet, iter: 2 i:33, pairs changed 0\n",
      "L==H\n",
      "fullSet, iter: 2 i:34, pairs changed 0\n",
      "fullSet, iter: 2 i:35, pairs changed 0\n",
      "L==H\n",
      "fullSet, iter: 2 i:36, pairs changed 0\n",
      "L==H\n",
      "fullSet, iter: 2 i:37, pairs changed 0\n",
      "fullSet, iter: 2 i:38, pairs changed 0\n",
      "fullSet, iter: 2 i:39, pairs changed 0\n",
      "fullSet, iter: 2 i:40, pairs changed 0\n",
      "fullSet, iter: 2 i:41, pairs changed 0\n",
      "j not moving enough\n",
      "fullSet, iter: 2 i:42, pairs changed 0\n",
      "L==H\n",
      "fullSet, iter: 2 i:43, pairs changed 0\n",
      "j not moving enough\n",
      "fullSet, iter: 2 i:44, pairs changed 0\n",
      "j not moving enough\n",
      "fullSet, iter: 2 i:45, pairs changed 0\n",
      "fullSet, iter: 2 i:46, pairs changed 0\n",
      "fullSet, iter: 2 i:47, pairs changed 0\n",
      "fullSet, iter: 2 i:48, pairs changed 0\n",
      "fullSet, iter: 2 i:49, pairs changed 0\n",
      "fullSet, iter: 2 i:50, pairs changed 0\n",
      "fullSet, iter: 2 i:51, pairs changed 0\n",
      "fullSet, iter: 2 i:52, pairs changed 0\n",
      "fullSet, iter: 2 i:53, pairs changed 0\n",
      "L==H\n",
      "fullSet, iter: 2 i:54, pairs changed 0\n",
      "L==H\n",
      "fullSet, iter: 2 i:55, pairs changed 0\n",
      "fullSet, iter: 2 i:56, pairs changed 0\n",
      "fullSet, iter: 2 i:57, pairs changed 0\n",
      "fullSet, iter: 2 i:58, pairs changed 0\n",
      "j not moving enough\n",
      "fullSet, iter: 2 i:59, pairs changed 0\n",
      "fullSet, iter: 2 i:60, pairs changed 0\n",
      "fullSet, iter: 2 i:61, pairs changed 0\n",
      "fullSet, iter: 2 i:62, pairs changed 0\n",
      "fullSet, iter: 2 i:63, pairs changed 0\n",
      "fullSet, iter: 2 i:64, pairs changed 0\n",
      "fullSet, iter: 2 i:65, pairs changed 0\n",
      "fullSet, iter: 2 i:66, pairs changed 0\n",
      "L==H\n",
      "fullSet, iter: 2 i:67, pairs changed 0\n",
      "j not moving enough\n",
      "fullSet, iter: 2 i:68, pairs changed 0\n",
      "fullSet, iter: 2 i:69, pairs changed 0\n",
      "fullSet, iter: 2 i:70, pairs changed 0\n",
      "fullSet, iter: 2 i:71, pairs changed 0\n",
      "fullSet, iter: 2 i:72, pairs changed 0\n",
      "fullSet, iter: 2 i:73, pairs changed 0\n",
      "fullSet, iter: 2 i:74, pairs changed 0\n",
      "fullSet, iter: 2 i:75, pairs changed 0\n",
      "fullSet, iter: 2 i:76, pairs changed 0\n",
      "fullSet, iter: 2 i:77, pairs changed 0\n",
      "fullSet, iter: 2 i:78, pairs changed 0\n",
      "fullSet, iter: 2 i:79, pairs changed 0\n",
      "j not moving enough\n",
      "fullSet, iter: 2 i:80, pairs changed 0\n",
      "fullSet, iter: 2 i:81, pairs changed 0\n",
      "fullSet, iter: 2 i:82, pairs changed 0\n",
      "j not moving enough\n",
      "fullSet, iter: 2 i:83, pairs changed 0\n",
      "fullSet, iter: 2 i:84, pairs changed 0\n",
      "fullSet, iter: 2 i:85, pairs changed 0\n",
      "j not moving enough\n",
      "fullSet, iter: 2 i:86, pairs changed 0\n",
      "fullSet, iter: 2 i:87, pairs changed 0\n",
      "fullSet, iter: 2 i:88, pairs changed 0\n",
      "fullSet, iter: 2 i:89, pairs changed 0\n",
      "fullSet, iter: 2 i:90, pairs changed 0\n",
      "fullSet, iter: 2 i:91, pairs changed 0\n",
      "fullSet, iter: 2 i:92, pairs changed 0\n",
      "fullSet, iter: 2 i:93, pairs changed 0\n",
      "fullSet, iter: 2 i:94, pairs changed 0\n",
      "fullSet, iter: 2 i:95, pairs changed 0\n",
      "fullSet, iter: 2 i:96, pairs changed 0\n",
      "fullSet, iter: 2 i:97, pairs changed 0\n",
      "fullSet, iter: 2 i:98, pairs changed 0\n",
      "fullSet, iter: 2 i:99, pairs changed 0\n",
      "iteration number: 3\n"
     ]
    }
   ],
   "source": [
    "from svm_basic import svm_basic\n",
    "\n",
    "dataMat, labelMat = loadDataSet('linearly_separable.csv')\n",
    "svm_basic_instance = svm_basic()\n",
    "svm = svm_basic_instance.fit(dataMat, labelMat)"
   ]
  },
  {
   "cell_type": "code",
   "execution_count": 7,
   "metadata": {
    "collapsed": true
   },
   "outputs": [],
   "source": [
    "def showPlot(svm):  \n",
    "    train_x = np.mat(svm.X)  \n",
    "    # draw all samples  \n",
    "    for i in range(svm.m):  \n",
    "        if svm.labelMat[i] == -1:  \n",
    "            plt.plot(train_x[i, 0], train_x[i, 1], 'or')  \n",
    "        elif svm.labelMat[i] == 1:  \n",
    "            plt.plot(train_x[i, 0], train_x[i, 1], 'ob')  \n",
    "  \n",
    "    min_x = min(train_x[:, 0])[0, 0]  \n",
    "    max_x = max(train_x[:, 0])[0, 0]  \n",
    "    y_min_x = float(-svm.b - svm.w[0] * min_x) / svm.w[1]  \n",
    "    y_max_x = float(-svm.b - svm.w[0] * max_x) / svm.w[1]  \n",
    "    plt.plot([min_x, max_x], [y_min_x, y_max_x]) \n",
    "    plt.show()  "
   ]
  },
  {
   "cell_type": "code",
   "execution_count": 8,
   "metadata": {},
   "outputs": [
    {
     "data": {
      "image/png": "[encoded data removed]",
      "text/plain": [
       "<matplotlib.figure.Figure at 0x11e2a6a90>"
      ]
     },
     "metadata": {},
     "output_type": "display_data"
    }
   ],
   "source": [
    "showPlot(svm)"
   ]
  },
  {
   "cell_type": "markdown",
   "metadata": {},
   "source": [
    "### Test"
   ]
  },
  {
   "cell_type": "code",
   "execution_count": 14,
   "metadata": {
    "collapsed": true
   },
   "outputs": [],
   "source": [
    "import random\n",
    "def gen_test_file(n, filename):\n",
    "    index = random.sample(range(0, 100),n)\n",
    "    index.sort()\n",
    "\n",
    "    i= 0\n",
    "    with open(filename,'w') as output , open('linearly_separable.csv') as input:\n",
    "        for line in input :\n",
    "            if i in index:\n",
    "                output.writelines(line)\n",
    "                output.flush()\n",
    "            i+=1\n",
    "        output.close()\n",
    "        input.close()"
   ]
  },
  {
   "cell_type": "code",
   "execution_count": 16,
   "metadata": {
    "collapsed": true
   },
   "outputs": [],
   "source": [
    "filename = 'test_file.csv'\n",
    "gen_test_file(30, filename)"
   ]
  },
  {
   "cell_type": "code",
   "execution_count": 17,
   "metadata": {
    "collapsed": true
   },
   "outputs": [],
   "source": [
    "dataMat_test, labelMat_test = loadDataSet(filename)\n",
    "\n",
    "hypotheses = svm_basic_instance.predict(dataMat_test)"
   ]
  },
  {
   "cell_type": "code",
   "execution_count": 18,
   "metadata": {
    "collapsed": true
   },
   "outputs": [],
   "source": [
    "def accuracy(predicts, labels):\n",
    "    errorCount = 0\n",
    "    for i in range(len(predicts)):\n",
    "        if np.sign(predicts[i]) != np.sign(labels[i]):\n",
    "            errorCount += 1\n",
    "    print(\"Accuracy is : \", 1-float(errorCount)/len(predicts))"
   ]
  },
  {
   "cell_type": "code",
   "execution_count": 19,
   "metadata": {},
   "outputs": [
    {
     "name": "stdout",
     "output_type": "stream",
     "text": [
      "Accuracy is :  1.0\n"
     ]
    }
   ],
   "source": [
    "accuracy(hypotheses, labelMat_test)"
   ]
  }
 ],
 "metadata": {
  "kernelspec": {
   "display_name": "Python 3",
   "language": "python",
   "name": "python3"
  },
  "language_info": {
   "codemirror_mode": {
    "name": "ipython",
    "version": 3
   },
   "file_extension": ".py",
   "mimetype": "text/x-python",
   "name": "python",
   "nbconvert_exporter": "python",
   "pygments_lexer": "ipython3",
   "version": "3.6.3"
  }
 },
 "nbformat": 4,
 "nbformat_minor": 2
}
